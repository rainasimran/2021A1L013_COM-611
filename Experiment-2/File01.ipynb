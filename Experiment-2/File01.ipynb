{
 "cells": [
  {
   "cell_type": "code",
   "execution_count": 1,
   "id": "8b4b5299",
   "metadata": {},
   "outputs": [],
   "source": [
    "import pandas as pd\n",
    "import numpy as np"
   ]
  },
  {
   "cell_type": "code",
   "execution_count": 2,
   "id": "b2ddaa8c",
   "metadata": {},
   "outputs": [
    {
     "name": "stdout",
     "output_type": "stream",
     "text": [
      "     Sky Temperature Humidity    Wind Water Forecast Enjoy Sport\n",
      "0  Sunny        Warm   Normal  Strong  Warm     Same         Yes\n",
      "1  Sunny        Warm     High  Strong  Warm     Same         Yes\n",
      "2  Rainy        Cold     High  Strong  Warm   Change          No\n",
      "3  Sunny        Warm   Normal  Strong  Cool   Change         Yes\n",
      "[['Sunny' 'Warm' 'Normal' 'Strong' 'Warm' 'Same']\n",
      " ['Sunny' 'Warm' 'High' 'Strong' 'Warm' 'Same']\n",
      " ['Rainy' 'Cold' 'High' 'Strong' 'Warm' 'Change']\n",
      " ['Sunny' 'Warm' 'Normal' 'Strong' 'Cool' 'Change']]\n",
      "['Yes' 'Yes' 'No' 'Yes']\n"
     ]
    }
   ],
   "source": [
    "data=pd.DataFrame(data=pd.read_csv('exp2.csv'))\n",
    "print(data)\n",
    "concepts=np.array(data.iloc[:,0:-1])\n",
    "print(concepts)\n",
    "target=np.array(data.iloc[:,-1])\n",
    "print(target)"
   ]
  },
  {
   "cell_type": "code",
   "execution_count": 3,
   "id": "62e0eee7",
   "metadata": {},
   "outputs": [
    {
     "name": "stdout",
     "output_type": "stream",
     "text": [
      "Initialization of specific_h and general_h are\n",
      "['Sunny' 'Warm' 'Normal' 'Strong' 'Warm' 'Same']\n",
      "[['?', '?', '?', '?', '?', '?'], ['?', '?', '?', '?', '?', '?'], ['?', '?', '?', '?', '?', '?'], ['?', '?', '?', '?', '?', '?'], ['?', '?', '?', '?', '?', '?'], ['?', '?', '?', '?', '?', '?']]\n",
      "Steps of candidates' elimination algo  1\n",
      "['Sunny' 'Warm' 'Normal' 'Strong' 'Warm' 'Same']\n",
      "[['?', '?', '?', '?', '?', '?'], ['?', '?', '?', '?', '?', '?'], ['?', '?', '?', '?', '?', '?'], ['?', '?', '?', '?', '?', '?'], ['?', '?', '?', '?', '?', '?'], ['?', '?', '?', '?', '?', '?']]\n",
      "Steps of candidates' elimination algo  2\n",
      "['Sunny' 'Warm' '?' 'Strong' 'Warm' 'Same']\n",
      "[['?', '?', '?', '?', '?', '?'], ['?', '?', '?', '?', '?', '?'], ['?', '?', '?', '?', '?', '?'], ['?', '?', '?', '?', '?', '?'], ['?', '?', '?', '?', '?', '?'], ['?', '?', '?', '?', '?', '?']]\n",
      "Steps of candidates' elimination algo  3\n",
      "['Sunny' 'Warm' '?' 'Strong' 'Warm' 'Same']\n",
      "[['Sunny', '?', '?', '?', '?', '?'], ['?', 'Warm', '?', '?', '?', '?'], ['?', '?', '?', '?', '?', '?'], ['?', '?', '?', '?', '?', '?'], ['?', '?', '?', '?', '?', '?'], ['?', '?', '?', '?', '?', 'Same']]\n",
      "Steps of candidates' elimination algo  4\n",
      "['Sunny' 'Warm' '?' 'Strong' '?' '?']\n",
      "[['Sunny', '?', '?', '?', '?', '?'], ['?', 'Warm', '?', '?', '?', '?'], ['?', '?', '?', '?', '?', '?'], ['?', '?', '?', '?', '?', '?'], ['?', '?', '?', '?', '?', '?'], ['?', '?', '?', '?', '?', '?']]\n",
      "Final specific_h:\n",
      "['Sunny' 'Warm' '?' 'Strong' '?' '?']\n",
      "\n",
      "Final general_h:\n",
      "[['Sunny', '?', '?', '?', '?', '?'], ['?', 'Warm', '?', '?', '?', '?']]\n"
     ]
    }
   ],
   "source": [
    "def learn(concepts, target):\n",
    "    specific_h=concepts[0].copy()\n",
    "    print(\"Initialization of specific_h and general_h are\")\n",
    "    print(specific_h)\n",
    "    general_h=[['?' for i in range(len(specific_h))] for i in range(len(specific_h))]\n",
    "    print(general_h)\n",
    "    for i,h in enumerate(concepts):\n",
    "        if target[i]==\"Yes\":\n",
    "            for x in range(len(specific_h)):\n",
    "                if h[x] != specific_h[x]:\n",
    "                    specific_h[x]=\"?\"\n",
    "                    general_h[x][x]=\"?\"\n",
    "        if target[i]==\"No\":\n",
    "            for x in range(len(specific_h)):\n",
    "                if h[x] != specific_h[x]:\n",
    "                    general_h[x][x]=specific_h[x]\n",
    "                else:\n",
    "                    general_h[x][x]=\"?\"\n",
    "        print(\"Steps of candidates' elimination algo \", i+1)\n",
    "        print(specific_h)\n",
    "        print(general_h)\n",
    "        indices=[i for i, val in enumerate(general_h) if val==['?', '?','?', '?','?', '?']]\n",
    "    for i in indices:\n",
    "        general_h.remove(['?', '?','?', '?','?', '?'])\n",
    "    return specific_h, general_h   \n",
    "s_final, g_final=learn(concepts, target)\n",
    "print(\"Final specific_h:\", s_final, sep=\"\\n\")\n",
    "print(\"\\nFinal general_h:\", g_final, sep=\"\\n\")"
   ]
  }
 ],
 "metadata": {
  "kernelspec": {
   "display_name": "Python 3 (ipykernel)",
   "language": "python",
   "name": "python3"
  },
  "language_info": {
   "codemirror_mode": {
    "name": "ipython",
    "version": 3
   },
   "file_extension": ".py",
   "mimetype": "text/x-python",
   "name": "python",
   "nbconvert_exporter": "python",
   "pygments_lexer": "ipython3",
   "version": "3.10.9"
  }
 },
 "nbformat": 4,
 "nbformat_minor": 5
}
