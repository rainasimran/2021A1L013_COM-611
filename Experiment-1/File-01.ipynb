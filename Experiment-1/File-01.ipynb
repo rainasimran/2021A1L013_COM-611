{
 "cells": [
  {
   "cell_type": "code",
   "execution_count": 1,
   "id": "ee55204f",
   "metadata": {},
   "outputs": [
    {
     "name": "stdout",
     "output_type": "stream",
     "text": [
      "\n",
      "The Given Training Data Set : \n",
      "\n",
      "['Male', 'High', 'High', 'Positive']\n",
      "['Female', 'Normal', 'High', 'Positive']\n",
      "['Male', 'Low', 'Low', 'Negative']\n",
      "['Female', 'High', 'Normal', 'Positive']\n",
      "['Male', 'Normal', 'Low', 'Negative']\n",
      "\n",
      "The Initial Value of Hypothesis : \n",
      "['0', '0', '0']\n"
     ]
    }
   ],
   "source": [
    "import csv\n",
    "num_attributes = 3\n",
    "a = []\n",
    "print('\\nThe Given Training Data Set : \\n')\n",
    "\n",
    "with open(\"exp1.csv\",\"r\") as csvfile:\n",
    "    reader = csv.reader(csvfile)\n",
    "    for row in reader:\n",
    "        a.append(row)\n",
    "        print(row)\n",
    "        \n",
    "print('\\nThe Initial Value of Hypothesis : ')\n",
    "hypothesis = ['0'] * num_attributes\n",
    "print(hypothesis)"
   ]
  },
  {
   "cell_type": "code",
   "execution_count": 2,
   "id": "d2ea1fdf",
   "metadata": {},
   "outputs": [],
   "source": [
    "for j in range(0,num_attributes):\n",
    "    hypothesis[j] = a[0][j]\n",
    "    "
   ]
  },
  {
   "cell_type": "code",
   "execution_count": 3,
   "id": "3b7ade41",
   "metadata": {},
   "outputs": [
    {
     "name": "stdout",
     "output_type": "stream",
     "text": [
      "\n",
      "Find-S Algorithm : Finding a Maximally Specific Hypothesis\n",
      "\n",
      "For Training Instance No. 0 the Hypothesis is :  ['Male', 'High', 'High']\n",
      "\n",
      "For Training Instance No. 1 the Hypothesis is :  ['?', '?', 'High']\n",
      "\n",
      "For Training Instance No. 2 the Hypothesis is :  ['?', '?', 'High']\n",
      "\n",
      "For Training Instance No. 3 the Hypothesis is :  ['?', '?', '?']\n",
      "\n",
      "For Training Instance No. 4 the Hypothesis is :  ['?', '?', '?']\n",
      "\n",
      "The Maximally Specific Hypothesis for a given Training Example : \n",
      "['?', '?', '?']\n"
     ]
    }
   ],
   "source": [
    "print('\\nFind-S Algorithm : Finding a Maximally Specific Hypothesis')\n",
    "for i in range(0,len(a)):\n",
    "    if a[i][num_attributes] == 'Positive':\n",
    "        for j in range(0,num_attributes):\n",
    "            if a[i][j] != hypothesis[j]:\n",
    "                hypothesis[j] = '?'\n",
    "            else:\n",
    "                hypothesis[j] = a[i][j]\n",
    "                \n",
    "    print('\\nFor Training Instance No. {0} the Hypothesis is : '.format(i),hypothesis)\n",
    "print('\\nThe Maximally Specific Hypothesis for a given Training Example : ')\n",
    "print(hypothesis)"
   ]
  },
  {
   "cell_type": "code",
   "execution_count": 4,
   "id": "fe42645b",
   "metadata": {},
   "outputs": [
    {
     "name": "stdout",
     "output_type": "stream",
     "text": [
      "\n",
      "The Initial Value of Hypothesis : \n",
      "['0', '0', '0']\n"
     ]
    }
   ],
   "source": [
    "print('\\nThe Initial Value of Hypothesis : ')\n",
    "hypothesis = ['0'] * num_attributes\n",
    "print(hypothesis)"
   ]
  },
  {
   "cell_type": "code",
   "execution_count": 5,
   "id": "b4a81c88",
   "metadata": {},
   "outputs": [],
   "source": [
    "for j in range(0,num_attributes):\n",
    "    hypothesis[j] = a[0][j]"
   ]
  },
  {
   "cell_type": "code",
   "execution_count": 6,
   "id": "52aad923",
   "metadata": {},
   "outputs": [
    {
     "name": "stdout",
     "output_type": "stream",
     "text": [
      "\n",
      "Find-S Algorithm : Finding a Maximally Specific Hypothesis\n",
      "\n",
      "For Training Instance No. 0 the Hypothesis is :  ['Male', 'High', 'High']\n",
      "\n",
      "For Training Instance No. 1 the Hypothesis is :  ['?', '?', 'High']\n",
      "\n",
      "For Training Instance No. 2 the Hypothesis is :  ['?', '?', 'High']\n",
      "\n",
      "For Training Instance No. 3 the Hypothesis is :  ['?', '?', '?']\n",
      "\n",
      "For Training Instance No. 4 the Hypothesis is :  ['?', '?', '?']\n",
      "\n",
      "The Maximally Specific Hypothesis for a given Training Example : \n",
      "['?', '?', '?']\n"
     ]
    }
   ],
   "source": [
    "print('\\nFind-S Algorithm : Finding a Maximally Specific Hypothesis')\n",
    "for i in range(0,len(a)):\n",
    "    if a[i][num_attributes] == 'Positive':\n",
    "        for j in range(0,num_attributes):\n",
    "            if a[i][j] != hypothesis[j]:\n",
    "                hypothesis[j] = '?'\n",
    "            else:\n",
    "                hypothesis[j] = a[i][j]\n",
    "                \n",
    "    print('\\nFor Training Instance No. {0} the Hypothesis is : '.format(i),hypothesis)\n",
    "print('\\nThe Maximally Specific Hypothesis for a given Training Example : ')\n",
    "print(hypothesis)"
   ]
  },
  {
   "cell_type": "code",
   "execution_count": null,
   "id": "dc1b67d1",
   "metadata": {},
   "outputs": [],
   "source": []
  }
 ],
 "metadata": {
  "kernelspec": {
   "display_name": "Python 3 (ipykernel)",
   "language": "python",
   "name": "python3"
  },
  "language_info": {
   "codemirror_mode": {
    "name": "ipython",
    "version": 3
   },
   "file_extension": ".py",
   "mimetype": "text/x-python",
   "name": "python",
   "nbconvert_exporter": "python",
   "pygments_lexer": "ipython3",
   "version": "3.10.9"
  }
 },
 "nbformat": 4,
 "nbformat_minor": 5
}
